{
 "cells": [
  {
   "cell_type": "markdown",
   "metadata": {},
   "source": [
    "# Вывод данных, команда print"
   ]
  },
  {
   "cell_type": "markdown",
   "metadata": {},
   "source": [
    "Для вывода данных на экран используется команда print().\n",
    "\n",
    "Внутри круглых скобок пишем, что хотим вывести на экран. Если это текст, то обязательно указываем его внутри кавычек. Кавычки могут быть одинарными или двойными. Только обязательно ставим одинаковые до и после текста.\n",
    "\n",
    "Например, следующий код выведет на экран текст:"
   ]
  },
  {
   "cell_type": "code",
   "execution_count": 4,
   "metadata": {},
   "outputs": [
    {
     "name": "stdout",
     "output_type": "stream",
     "text": [
      "Мы изучаем язык Python\n"
     ]
    }
   ],
   "source": [
    "print('Мы изучаем язык Python')"
   ]
  },
  {
   "cell_type": "markdown",
   "metadata": {},
   "source": [
    "кавычки могут быть и одинарными, и двойными. Следующие две строки делают одно и тоже."
   ]
  },
  {
   "cell_type": "code",
   "execution_count": 5,
   "metadata": {},
   "outputs": [
    {
     "name": "stdout",
     "output_type": "stream",
     "text": [
      "Python\n",
      "Python\n"
     ]
    }
   ],
   "source": [
    "print('Python')\n",
    "print(\"Python\")"
   ]
  },
  {
   "cell_type": "markdown",
   "metadata": {},
   "source": [
    "То, что мы пишем в круглых скобках у команды print(), называется аргументами или параметрами команды.\n",
    "\n",
    "Команда print() позволяет указывать несколько аргументов, в таком случае их надо отделять запятыми.\n",
    "\n",
    "Например, следующий код выведет на экран текст:"
   ]
  },
  {
   "cell_type": "code",
   "execution_count": 7,
   "metadata": {},
   "outputs": [
    {
     "name": "stdout",
     "output_type": "stream",
     "text": [
      "Скоро я буду программировать на языке Python!\n"
     ]
    }
   ],
   "source": [
    "print('Скоро я', 'буду программировать', 'на языке', 'Python!')"
   ]
  },
  {
   "cell_type": "markdown",
   "metadata": {},
   "source": [
    "Обратите внимание, в качестве разделителя при выводе данных между аргументами команды используется символ пробел. По умолчанию команда print() добавляет ровно один пробел между всеми своими аргументами. Например, следующая программа:"
   ]
  },
  {
   "cell_type": "code",
   "execution_count": 9,
   "metadata": {},
   "outputs": [
    {
     "name": "stdout",
     "output_type": "stream",
     "text": [
      "1 2 4 8 16\n"
     ]
    }
   ],
   "source": [
    "print('1', '2', '4', '8', '16')"
   ]
  },
  {
   "cell_type": "markdown",
   "metadata": {},
   "source": [
    "Примечание 1. Команда print() записывается только маленькими буквами, другое написание недопустимо, так как в Python строчные и заглавные буквы различны.\n",
    "\n",
    "Примечание 2. Каждая последующая команда print() выводит указанный текст с новой строки. Например, следующая программа:"
   ]
  },
  {
   "cell_type": "code",
   "execution_count": 10,
   "metadata": {},
   "outputs": [
    {
     "name": "stdout",
     "output_type": "stream",
     "text": [
      "Какой хороший день!\n",
      "Работать мне не лень!\n"
     ]
    }
   ],
   "source": [
    "print('Какой хороший день!')\n",
    "print('Работать мне не лень!')"
   ]
  },
  {
   "cell_type": "markdown",
   "metadata": {},
   "source": [
    "Примечание 3. Команда print() с пустым списком аргументов просто вставляет новую пустую строку. Например:"
   ]
  },
  {
   "cell_type": "code",
   "execution_count": 11,
   "metadata": {},
   "outputs": [
    {
     "name": "stdout",
     "output_type": "stream",
     "text": [
      "Какой хороший день!\n",
      "\n",
      "Работать мне не лень!\n"
     ]
    }
   ],
   "source": [
    "print('Какой хороший день!')\n",
    "print()\n",
    "print('Работать мне не лень!')"
   ]
  },
  {
   "cell_type": "markdown",
   "metadata": {},
   "source": [
    "Примечание 4. Почему в Python можно использовать как одинарные, так и двойные кавычки для обрамления текста? Ответ очень прост — часто кавычки это часть текста. И чтобы Python мог правильно распознать такой текст, пользуемся разными:\n",
    "\n",
    "если в тексте нужны одинарные кавычки, то для обрамления такого текста используем двойные кавычки;\n",
    "если в тексте нужны двойные кавычки, то обрамляем его одинарными.\n",
    "Результатом выполнения кода:"
   ]
  },
  {
   "cell_type": "code",
   "execution_count": 12,
   "metadata": {},
   "outputs": [
    {
     "name": "stdout",
     "output_type": "stream",
     "text": [
      "В тексте есть \"двойные\" кавычки\n",
      "В тексте есть 'одинарные' кавычки\n"
     ]
    }
   ],
   "source": [
    "print('В тексте есть \"двойные\" кавычки')\n",
    "print(\"В тексте есть 'одинарные' кавычки\")"
   ]
  },
  {
   "cell_type": "code",
   "execution_count": null,
   "metadata": {},
   "outputs": [],
   "source": []
  }
 ],
 "metadata": {
  "kernelspec": {
   "display_name": "Python 3",
   "language": "python",
   "name": "python3"
  },
  "language_info": {
   "codemirror_mode": {
    "name": "ipython",
    "version": 3
   },
   "file_extension": ".py",
   "mimetype": "text/x-python",
   "name": "python",
   "nbconvert_exporter": "python",
   "pygments_lexer": "ipython3",
   "version": "3.7.6"
  }
 },
 "nbformat": 4,
 "nbformat_minor": 4
}
